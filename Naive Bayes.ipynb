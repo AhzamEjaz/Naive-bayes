{
 "cells": [
  {
   "cell_type": "code",
   "execution_count": 1,
   "id": "fabddab6",
   "metadata": {},
   "outputs": [],
   "source": [
    "import pandas as pd\n",
    "import numpy as np\n"
   ]
  },
  {
   "cell_type": "code",
   "execution_count": 2,
   "id": "d40b4e62",
   "metadata": {},
   "outputs": [
    {
     "data": {
      "text/plain": [
       "['buying', 'maint', 'doors', 'persons', 'lug_boot', 'safety', 'class']"
      ]
     },
     "execution_count": 2,
     "metadata": {},
     "output_type": "execute_result"
    }
   ],
   "source": [
    "headers = pd.read_csv('./data/car.meta.txt',sep = ':', header = None)[0]\n",
    "headers = list(headers)\n",
    "headers"
   ]
  },
  {
   "cell_type": "code",
   "execution_count": 3,
   "id": "66a8d791",
   "metadata": {
    "scrolled": true
   },
   "outputs": [
    {
     "data": {
      "text/html": [
       "<div>\n",
       "<style scoped>\n",
       "    .dataframe tbody tr th:only-of-type {\n",
       "        vertical-align: middle;\n",
       "    }\n",
       "\n",
       "    .dataframe tbody tr th {\n",
       "        vertical-align: top;\n",
       "    }\n",
       "\n",
       "    .dataframe thead th {\n",
       "        text-align: right;\n",
       "    }\n",
       "</style>\n",
       "<table border=\"1\" class=\"dataframe\">\n",
       "  <thead>\n",
       "    <tr style=\"text-align: right;\">\n",
       "      <th></th>\n",
       "      <th>0</th>\n",
       "      <th>1</th>\n",
       "      <th>2</th>\n",
       "      <th>3</th>\n",
       "      <th>4</th>\n",
       "      <th>5</th>\n",
       "      <th>6</th>\n",
       "    </tr>\n",
       "  </thead>\n",
       "  <tbody>\n",
       "    <tr>\n",
       "      <th>0</th>\n",
       "      <td>med</td>\n",
       "      <td>med</td>\n",
       "      <td>3</td>\n",
       "      <td>more</td>\n",
       "      <td>small</td>\n",
       "      <td>low</td>\n",
       "      <td>unacc</td>\n",
       "    </tr>\n",
       "    <tr>\n",
       "      <th>1</th>\n",
       "      <td>high</td>\n",
       "      <td>low</td>\n",
       "      <td>4</td>\n",
       "      <td>4</td>\n",
       "      <td>med</td>\n",
       "      <td>high</td>\n",
       "      <td>acc</td>\n",
       "    </tr>\n",
       "    <tr>\n",
       "      <th>2</th>\n",
       "      <td>vhigh</td>\n",
       "      <td>vhigh</td>\n",
       "      <td>3</td>\n",
       "      <td>more</td>\n",
       "      <td>big</td>\n",
       "      <td>med</td>\n",
       "      <td>unacc</td>\n",
       "    </tr>\n",
       "    <tr>\n",
       "      <th>3</th>\n",
       "      <td>high</td>\n",
       "      <td>vhigh</td>\n",
       "      <td>3</td>\n",
       "      <td>4</td>\n",
       "      <td>big</td>\n",
       "      <td>med</td>\n",
       "      <td>unacc</td>\n",
       "    </tr>\n",
       "    <tr>\n",
       "      <th>4</th>\n",
       "      <td>med</td>\n",
       "      <td>low</td>\n",
       "      <td>3</td>\n",
       "      <td>more</td>\n",
       "      <td>big</td>\n",
       "      <td>high</td>\n",
       "      <td>vgood</td>\n",
       "    </tr>\n",
       "    <tr>\n",
       "      <th>...</th>\n",
       "      <td>...</td>\n",
       "      <td>...</td>\n",
       "      <td>...</td>\n",
       "      <td>...</td>\n",
       "      <td>...</td>\n",
       "      <td>...</td>\n",
       "      <td>...</td>\n",
       "    </tr>\n",
       "    <tr>\n",
       "      <th>1395</th>\n",
       "      <td>high</td>\n",
       "      <td>vhigh</td>\n",
       "      <td>4</td>\n",
       "      <td>4</td>\n",
       "      <td>big</td>\n",
       "      <td>med</td>\n",
       "      <td>unacc</td>\n",
       "    </tr>\n",
       "    <tr>\n",
       "      <th>1396</th>\n",
       "      <td>vhigh</td>\n",
       "      <td>med</td>\n",
       "      <td>4</td>\n",
       "      <td>2</td>\n",
       "      <td>small</td>\n",
       "      <td>med</td>\n",
       "      <td>unacc</td>\n",
       "    </tr>\n",
       "    <tr>\n",
       "      <th>1397</th>\n",
       "      <td>high</td>\n",
       "      <td>vhigh</td>\n",
       "      <td>3</td>\n",
       "      <td>more</td>\n",
       "      <td>small</td>\n",
       "      <td>low</td>\n",
       "      <td>unacc</td>\n",
       "    </tr>\n",
       "    <tr>\n",
       "      <th>1398</th>\n",
       "      <td>med</td>\n",
       "      <td>low</td>\n",
       "      <td>4</td>\n",
       "      <td>more</td>\n",
       "      <td>small</td>\n",
       "      <td>med</td>\n",
       "      <td>acc</td>\n",
       "    </tr>\n",
       "    <tr>\n",
       "      <th>1399</th>\n",
       "      <td>med</td>\n",
       "      <td>low</td>\n",
       "      <td>5more</td>\n",
       "      <td>4</td>\n",
       "      <td>med</td>\n",
       "      <td>low</td>\n",
       "      <td>unacc</td>\n",
       "    </tr>\n",
       "  </tbody>\n",
       "</table>\n",
       "<p>1400 rows × 7 columns</p>\n",
       "</div>"
      ],
      "text/plain": [
       "          0      1      2     3      4     5      6\n",
       "0       med    med      3  more  small   low  unacc\n",
       "1      high    low      4     4    med  high    acc\n",
       "2     vhigh  vhigh      3  more    big   med  unacc\n",
       "3      high  vhigh      3     4    big   med  unacc\n",
       "4       med    low      3  more    big  high  vgood\n",
       "...     ...    ...    ...   ...    ...   ...    ...\n",
       "1395   high  vhigh      4     4    big   med  unacc\n",
       "1396  vhigh    med      4     2  small   med  unacc\n",
       "1397   high  vhigh      3  more  small   low  unacc\n",
       "1398    med    low      4  more  small   med    acc\n",
       "1399    med    low  5more     4    med   low  unacc\n",
       "\n",
       "[1400 rows x 7 columns]"
      ]
     },
     "execution_count": 3,
     "metadata": {},
     "output_type": "execute_result"
    }
   ],
   "source": [
    "train_df = pd.read_csv('./data/car.train.txt', header = None)\n",
    "train_df"
   ]
  },
  {
   "cell_type": "code",
   "execution_count": 4,
   "id": "0246d56f",
   "metadata": {},
   "outputs": [
    {
     "data": {
      "text/html": [
       "<div>\n",
       "<style scoped>\n",
       "    .dataframe tbody tr th:only-of-type {\n",
       "        vertical-align: middle;\n",
       "    }\n",
       "\n",
       "    .dataframe tbody tr th {\n",
       "        vertical-align: top;\n",
       "    }\n",
       "\n",
       "    .dataframe thead th {\n",
       "        text-align: right;\n",
       "    }\n",
       "</style>\n",
       "<table border=\"1\" class=\"dataframe\">\n",
       "  <thead>\n",
       "    <tr style=\"text-align: right;\">\n",
       "      <th></th>\n",
       "      <th>buying</th>\n",
       "      <th>maint</th>\n",
       "      <th>doors</th>\n",
       "      <th>persons</th>\n",
       "      <th>lug_boot</th>\n",
       "      <th>safety</th>\n",
       "      <th>class</th>\n",
       "    </tr>\n",
       "  </thead>\n",
       "  <tbody>\n",
       "    <tr>\n",
       "      <th>0</th>\n",
       "      <td>med</td>\n",
       "      <td>med</td>\n",
       "      <td>3</td>\n",
       "      <td>more</td>\n",
       "      <td>small</td>\n",
       "      <td>low</td>\n",
       "      <td>unacc</td>\n",
       "    </tr>\n",
       "    <tr>\n",
       "      <th>1</th>\n",
       "      <td>high</td>\n",
       "      <td>low</td>\n",
       "      <td>4</td>\n",
       "      <td>4</td>\n",
       "      <td>med</td>\n",
       "      <td>high</td>\n",
       "      <td>acc</td>\n",
       "    </tr>\n",
       "    <tr>\n",
       "      <th>2</th>\n",
       "      <td>vhigh</td>\n",
       "      <td>vhigh</td>\n",
       "      <td>3</td>\n",
       "      <td>more</td>\n",
       "      <td>big</td>\n",
       "      <td>med</td>\n",
       "      <td>unacc</td>\n",
       "    </tr>\n",
       "    <tr>\n",
       "      <th>3</th>\n",
       "      <td>high</td>\n",
       "      <td>vhigh</td>\n",
       "      <td>3</td>\n",
       "      <td>4</td>\n",
       "      <td>big</td>\n",
       "      <td>med</td>\n",
       "      <td>unacc</td>\n",
       "    </tr>\n",
       "    <tr>\n",
       "      <th>4</th>\n",
       "      <td>med</td>\n",
       "      <td>low</td>\n",
       "      <td>3</td>\n",
       "      <td>more</td>\n",
       "      <td>big</td>\n",
       "      <td>high</td>\n",
       "      <td>vgood</td>\n",
       "    </tr>\n",
       "    <tr>\n",
       "      <th>...</th>\n",
       "      <td>...</td>\n",
       "      <td>...</td>\n",
       "      <td>...</td>\n",
       "      <td>...</td>\n",
       "      <td>...</td>\n",
       "      <td>...</td>\n",
       "      <td>...</td>\n",
       "    </tr>\n",
       "    <tr>\n",
       "      <th>1395</th>\n",
       "      <td>high</td>\n",
       "      <td>vhigh</td>\n",
       "      <td>4</td>\n",
       "      <td>4</td>\n",
       "      <td>big</td>\n",
       "      <td>med</td>\n",
       "      <td>unacc</td>\n",
       "    </tr>\n",
       "    <tr>\n",
       "      <th>1396</th>\n",
       "      <td>vhigh</td>\n",
       "      <td>med</td>\n",
       "      <td>4</td>\n",
       "      <td>2</td>\n",
       "      <td>small</td>\n",
       "      <td>med</td>\n",
       "      <td>unacc</td>\n",
       "    </tr>\n",
       "    <tr>\n",
       "      <th>1397</th>\n",
       "      <td>high</td>\n",
       "      <td>vhigh</td>\n",
       "      <td>3</td>\n",
       "      <td>more</td>\n",
       "      <td>small</td>\n",
       "      <td>low</td>\n",
       "      <td>unacc</td>\n",
       "    </tr>\n",
       "    <tr>\n",
       "      <th>1398</th>\n",
       "      <td>med</td>\n",
       "      <td>low</td>\n",
       "      <td>4</td>\n",
       "      <td>more</td>\n",
       "      <td>small</td>\n",
       "      <td>med</td>\n",
       "      <td>acc</td>\n",
       "    </tr>\n",
       "    <tr>\n",
       "      <th>1399</th>\n",
       "      <td>med</td>\n",
       "      <td>low</td>\n",
       "      <td>5more</td>\n",
       "      <td>4</td>\n",
       "      <td>med</td>\n",
       "      <td>low</td>\n",
       "      <td>unacc</td>\n",
       "    </tr>\n",
       "  </tbody>\n",
       "</table>\n",
       "<p>1400 rows × 7 columns</p>\n",
       "</div>"
      ],
      "text/plain": [
       "     buying  maint  doors persons lug_boot safety  class\n",
       "0       med    med      3    more    small    low  unacc\n",
       "1      high    low      4       4      med   high    acc\n",
       "2     vhigh  vhigh      3    more      big    med  unacc\n",
       "3      high  vhigh      3       4      big    med  unacc\n",
       "4       med    low      3    more      big   high  vgood\n",
       "...     ...    ...    ...     ...      ...    ...    ...\n",
       "1395   high  vhigh      4       4      big    med  unacc\n",
       "1396  vhigh    med      4       2    small    med  unacc\n",
       "1397   high  vhigh      3    more    small    low  unacc\n",
       "1398    med    low      4    more    small    med    acc\n",
       "1399    med    low  5more       4      med    low  unacc\n",
       "\n",
       "[1400 rows x 7 columns]"
      ]
     },
     "execution_count": 4,
     "metadata": {},
     "output_type": "execute_result"
    }
   ],
   "source": [
    "train_df.columns = headers\n",
    "\n",
    "train_df"
   ]
  },
  {
   "cell_type": "code",
   "execution_count": 5,
   "id": "d2bf2d44",
   "metadata": {},
   "outputs": [],
   "source": [
    "test_df = pd.read_csv('./data/car.test.txt', header = None)\n",
    "# test_df.columns = headers"
   ]
  },
  {
   "cell_type": "code",
   "execution_count": null,
   "id": "0ddcf9a0",
   "metadata": {},
   "outputs": [],
   "source": []
  },
  {
   "cell_type": "code",
   "execution_count": 6,
   "id": "12c9a776",
   "metadata": {},
   "outputs": [
    {
     "name": "stdout",
     "output_type": "stream",
     "text": [
      "        0      1      2     3      4     5      6\n",
      "0   vhigh    med  5more     4    med   low  unacc\n",
      "1    high    med      3     2  small  high  unacc\n",
      "2   vhigh    med      2     4    big  high    acc\n",
      "3   vhigh   high      4     2    big   low  unacc\n",
      "4   vhigh  vhigh      3     4    big   med  unacc\n",
      "5     med   high      3  more  small   low  unacc\n",
      "6   vhigh  vhigh      2     4    med  high  unacc\n",
      "7     med    med  5more     4    big   med    acc\n",
      "8     low  vhigh      4  more  small  high    acc\n",
      "9     low    med      3     2    big   low  unacc\n",
      "10    med  vhigh      2     4  small   med  unacc\n",
      "11   high   high      3     2    med   low  unacc\n",
      "12   high   high      3  more  small   med  unacc\n",
      "13  vhigh   high      2     2  small   low  unacc\n",
      "14   high  vhigh      4     4  small   med  unacc\n",
      "15    med  vhigh      3     2    med   med  unacc\n",
      "16  vhigh    low      3  more    med   med    acc\n",
      "17    med  vhigh      2  more    big   med    acc\n",
      "18    med   high      4  more    med   low  unacc\n",
      "19  vhigh    low  5more     4  small  high    acc\n",
      "20   high   high      2     4    big  high    acc\n",
      "21  vhigh  vhigh      4     2    big  high  unacc\n",
      "22   high    low      4  more    med   low  unacc\n",
      "23  vhigh  vhigh      2     2    big   med  unacc\n",
      "24    low    med  5more  more  small  high   good\n",
      "25   high   high      2  more    med   med  unacc\n",
      "26    med    low      2  more    med   low  unacc\n",
      "27    low  vhigh  5more     4  small   low  unacc\n",
      "28    med  vhigh      2  more    med  high    acc\n",
      "29  vhigh    low      2  more    med   med  unacc\n"
     ]
    }
   ],
   "source": [
    "print(test_df.head(30))"
   ]
  },
  {
   "cell_type": "markdown",
   "id": "0c7b1023",
   "metadata": {},
   "source": [
    "## Handcoding algorithm"
   ]
  },
  {
   "cell_type": "code",
   "execution_count": 7,
   "id": "0421b21b",
   "metadata": {},
   "outputs": [],
   "source": [
    "ind_col_counts = {}\n",
    "col_dict = {}\n",
    "\n",
    "for ele in train_df['class'].unique():\n",
    "    ind_count = np.asarray(train_df[train_df['class']==ele]['class']).size\n",
    "    ind_col_counts[ele] = ind_count\n",
    "col_dict = ind_col_counts"
   ]
  },
  {
   "cell_type": "code",
   "execution_count": 8,
   "id": "350e607c",
   "metadata": {},
   "outputs": [],
   "source": [
    "# class\n",
    "# class_probabilities = pd.DataFrame(col_dict)\n",
    "prob_col_dict = {}\n",
    "for key in col_dict.keys():\n",
    "    prob_col_dict[key] = (col_dict[key]/train_df['class'].shape[0])\n"
   ]
  },
  {
   "cell_type": "code",
   "execution_count": 9,
   "id": "066f7677",
   "metadata": {},
   "outputs": [
    {
     "data": {
      "text/plain": [
       "{'unacc': 0.7085714285714285,\n",
       " 'acc': 0.21785714285714286,\n",
       " 'vgood': 0.035,\n",
       " 'good': 0.03857142857142857}"
      ]
     },
     "execution_count": 9,
     "metadata": {},
     "output_type": "execute_result"
    }
   ],
   "source": [
    "prob_col_dict"
   ]
  },
  {
   "cell_type": "code",
   "execution_count": 10,
   "id": "b3ba4ce6",
   "metadata": {},
   "outputs": [
    {
     "name": "stdout",
     "output_type": "stream",
     "text": [
      "\n",
      " buying  probabilities----\n",
      "             med      high     vhigh       low\n",
      "unacc  0.221774  0.268145  0.300403  0.209677\n",
      "acc    0.304918  0.281967  0.183607  0.229508\n",
      "vgood  0.408163       0.0       0.0  0.591837\n",
      "good    0.37037       0.0       0.0   0.62963\n",
      "\n",
      " maint  probabilities----\n",
      "             med       low     vhigh      high\n",
      "unacc  0.220766  0.222782  0.300403  0.256048\n",
      "acc    0.298361   0.24918  0.180328  0.272131\n",
      "vgood  0.346939  0.469388       0.0  0.183673\n",
      "good   0.314815  0.685185       0.0       0.0\n",
      "\n",
      " doors  probabilities----\n",
      "               3         4         2     5more\n",
      "unacc  0.243952  0.238911  0.268145  0.248992\n",
      "acc    0.265574   0.27541  0.196721  0.262295\n",
      "vgood   0.22449  0.326531  0.163265  0.285714\n",
      "good   0.240741  0.277778  0.203704  0.277778\n",
      "\n",
      " persons  probabilities----\n",
      "            more         4        2\n",
      "unacc  0.265121  0.261089  0.47379\n",
      "acc    0.472131  0.527869      0.0\n",
      "vgood  0.591837  0.408163      0.0\n",
      "good   0.537037  0.462963      0.0\n",
      "\n",
      " lug_boot  probabilities----\n",
      "           small       med       big\n",
      "unacc  0.365927  0.324597  0.309476\n",
      "acc    0.278689  0.347541   0.37377\n",
      "vgood       0.0  0.387755  0.612245\n",
      "good   0.296296  0.388889  0.314815\n",
      "\n",
      " safety  probabilities----\n",
      "             low      high       med\n",
      "unacc  0.478831  0.234879   0.28629\n",
      "acc         0.0  0.544262  0.455738\n",
      "vgood       0.0       1.0       0.0\n",
      "good        0.0  0.444444  0.555556\n",
      "\n",
      " class  probabilities----\n",
      "       unacc  acc vgood good\n",
      "unacc   1.0  0.0   0.0  0.0\n",
      "acc     0.0  1.0   0.0  0.0\n",
      "vgood   0.0  0.0   1.0  0.0\n",
      "good    0.0  0.0   0.0  1.0\n"
     ]
    }
   ],
   "source": [
    "#buying\n",
    "probs_list = {}\n",
    "for header in headers:\n",
    "    ind_df = pd.DataFrame(index = train_df['class'].unique(), columns = train_df[header].unique())\n",
    "    for row in train_df['class'].unique():\n",
    "        total_vals = train_df[train_df['class'] == row].shape[0]\n",
    "        for ele in train_df[header].unique():\n",
    "            unacc_med = train_df[(train_df['class'] == row) & (train_df[header] == ele)].shape[0]\n",
    "            ind_df[ele][row] = unacc_med / total_vals\n",
    "    probs_list[header] = ind_df\n",
    "for key in probs_list.keys():\n",
    "    print('\\n', key, ' probabilities----\\n', probs_list[key])"
   ]
  },
  {
   "cell_type": "code",
   "execution_count": 11,
   "id": "d19d0f9f",
   "metadata": {},
   "outputs": [],
   "source": [
    "def getProbabilityItems(header_list = headers, feature_list = ['high', 'vhigh', '5more', '4', 'big', 'med'], pred_var='acc'):\n",
    "    selection_lst = []\n",
    "    for item_no in range(6):\n",
    "        selection_lst.append(probs_list[header_list[item_no]][feature_list[item_no]][pred_var])\n",
    "    selection_lst.append(prob_col_dict[pred_var])\n",
    "    return selection_lst"
   ]
  },
  {
   "cell_type": "code",
   "execution_count": 12,
   "id": "f96f2321",
   "metadata": {},
   "outputs": [],
   "source": [
    "def productOfItems(item_list):\n",
    "    product = 1\n",
    "    for item in item_list:\n",
    "        product = product * item\n",
    "    return product\n"
   ]
  },
  {
   "cell_type": "code",
   "execution_count": 13,
   "id": "eaede6e2",
   "metadata": {},
   "outputs": [],
   "source": [
    "def getMaxIndex(productsOfClass):\n",
    "    return productsOfClass.index(max(productsOfClass))"
   ]
  },
  {
   "cell_type": "code",
   "execution_count": 14,
   "id": "d0fe62df",
   "metadata": {},
   "outputs": [],
   "source": [
    "def predict(header_list = headers[:6], feature_list = ['vhigh', 'med', '2', '4', 'big', 'high']):\n",
    "    productsOfClass = []\n",
    "    for pred_item in prob_col_dict.keys():\n",
    "        probabs_lst = getProbabilityItems(feature_list = feature_list, pred_var = pred_item)\n",
    "        productsOfClass.append(productOfItems(probabs_lst))\n",
    "    prediction = list(prob_col_dict.keys())[getMaxIndex(productsOfClass)]\n",
    "    return prediction"
   ]
  },
  {
   "cell_type": "code",
   "execution_count": 15,
   "id": "89048106",
   "metadata": {},
   "outputs": [],
   "source": [
    "predictions = []\n",
    "for row in range(test_df.shape[0]):\n",
    "    feature_list = test_df.iloc[row]\n",
    "    feature_list = list(feature_list[:6])\n",
    "#     print(feature_list)\n",
    "    predictions.append(predict(feature_list = feature_list))"
   ]
  },
  {
   "cell_type": "code",
   "execution_count": 16,
   "id": "dc0554af",
   "metadata": {},
   "outputs": [
    {
     "name": "stdout",
     "output_type": "stream",
     "text": [
      "['unacc', 'unacc', 'acc', 'unacc', 'unacc', 'unacc', 'unacc', 'acc', 'unacc', 'unacc', 'unacc', 'unacc', 'unacc', 'unacc', 'unacc', 'unacc', 'unacc', 'unacc', 'unacc', 'unacc', 'acc', 'unacc', 'unacc', 'unacc', 'acc', 'unacc', 'unacc', 'unacc', 'unacc', 'unacc', 'acc', 'unacc', 'unacc', 'unacc', 'unacc', 'acc', 'unacc', 'acc', 'unacc', 'unacc', 'unacc', 'unacc', 'unacc', 'acc', 'unacc', 'unacc', 'unacc', 'unacc', 'good', 'unacc', 'unacc', 'unacc', 'unacc', 'unacc', 'unacc', 'unacc', 'unacc', 'unacc', 'unacc', 'acc', 'unacc', 'unacc', 'unacc', 'good', 'unacc', 'acc', 'unacc', 'unacc', 'unacc', 'unacc', 'unacc', 'acc', 'acc', 'acc', 'unacc', 'unacc', 'unacc', 'unacc', 'unacc', 'acc', 'acc', 'unacc', 'acc', 'unacc', 'vgood', 'unacc', 'acc', 'unacc', 'unacc', 'unacc', 'unacc', 'acc', 'vgood', 'unacc', 'acc', 'acc', 'unacc', 'unacc', 'unacc', 'unacc', 'unacc', 'unacc', 'unacc', 'acc', 'unacc', 'unacc', 'unacc', 'acc', 'good', 'unacc', 'unacc', 'acc', 'unacc', 'unacc', 'unacc', 'unacc', 'unacc', 'acc', 'unacc', 'unacc', 'unacc', 'acc', 'unacc', 'unacc', 'unacc', 'unacc', 'unacc', 'unacc', 'unacc', 'unacc', 'unacc', 'unacc', 'unacc', 'acc', 'unacc', 'unacc', 'unacc', 'unacc', 'acc', 'unacc', 'unacc', 'unacc', 'unacc', 'acc', 'unacc', 'acc', 'acc', 'unacc', 'unacc', 'unacc', 'unacc', 'unacc', 'acc', 'unacc', 'unacc', 'unacc', 'unacc', 'acc', 'acc', 'acc', 'unacc', 'vgood', 'unacc', 'unacc', 'good', 'unacc', 'unacc', 'unacc', 'unacc', 'vgood', 'unacc', 'unacc', 'unacc', 'unacc', 'acc', 'acc', 'unacc', 'unacc', 'acc', 'acc', 'good', 'acc', 'unacc', 'acc', 'acc', 'acc', 'unacc', 'unacc', 'acc', 'unacc', 'unacc', 'unacc', 'unacc', 'acc', 'acc', 'unacc', 'unacc', 'unacc', 'unacc', 'unacc', 'unacc', 'good', 'unacc', 'unacc', 'acc', 'acc', 'unacc', 'acc', 'unacc', 'unacc', 'unacc', 'unacc', 'unacc', 'unacc', 'unacc', 'unacc', 'unacc', 'unacc', 'unacc', 'unacc', 'unacc', 'unacc', 'acc', 'unacc', 'unacc', 'unacc', 'unacc', 'acc', 'acc', 'unacc', 'acc', 'unacc', 'unacc', 'unacc', 'unacc', 'acc', 'unacc', 'unacc', 'acc', 'unacc', 'unacc', 'unacc', 'unacc', 'unacc', 'unacc', 'unacc', 'unacc', 'unacc', 'acc', 'acc', 'acc', 'unacc', 'unacc', 'unacc', 'acc', 'unacc', 'unacc', 'unacc', 'unacc', 'unacc', 'acc', 'unacc', 'acc', 'unacc', 'acc', 'unacc', 'unacc', 'unacc', 'acc', 'unacc', 'acc', 'unacc', 'unacc', 'unacc', 'unacc', 'unacc', 'unacc', 'unacc', 'acc', 'unacc', 'unacc', 'unacc', 'unacc', 'unacc', 'unacc', 'unacc', 'unacc', 'acc', 'unacc', 'unacc', 'acc', 'acc', 'unacc', 'unacc', 'acc', 'unacc', 'acc', 'unacc', 'unacc', 'unacc', 'unacc', 'acc', 'acc', 'acc', 'unacc', 'unacc', 'unacc', 'unacc', 'acc', 'unacc', 'acc', 'unacc', 'unacc', 'unacc', 'unacc', 'unacc', 'acc', 'unacc', 'acc', 'acc', 'unacc', 'acc', 'unacc', 'unacc', 'unacc', 'acc', 'vgood', 'acc']\n"
     ]
    }
   ],
   "source": [
    "print(predictions)"
   ]
  },
  {
   "cell_type": "code",
   "execution_count": 34,
   "id": "3664775f",
   "metadata": {},
   "outputs": [
    {
     "name": "stdout",
     "output_type": "stream",
     "text": [
      "328\n"
     ]
    }
   ],
   "source": [
    "no_of_right_predictions = test_df[test_df[test_df.iloc[0].shape[0] - 1] == predictions].shape[0]\n",
    "total_class = test_df.shape[0]\n",
    "print(total_class)"
   ]
  },
  {
   "cell_type": "code",
   "execution_count": null,
   "id": "531e8779",
   "metadata": {},
   "outputs": [],
   "source": [
    "count = 0\n",
    "for i in range(len(predictions)):\n",
    "#     predictions[i] == 'unacc' \n",
    "    if(predictions[i] == 'unacc'):\n",
    "        count = count + 1"
   ]
  },
  {
   "cell_type": "code",
   "execution_count": null,
   "id": "154ec4b2",
   "metadata": {},
   "outputs": [],
   "source": [
    "print(count)"
   ]
  }
 ],
 "metadata": {
  "kernelspec": {
   "display_name": "Python 3 (ipykernel)",
   "language": "python",
   "name": "python3"
  },
  "language_info": {
   "codemirror_mode": {
    "name": "ipython",
    "version": 3
   },
   "file_extension": ".py",
   "mimetype": "text/x-python",
   "name": "python",
   "nbconvert_exporter": "python",
   "pygments_lexer": "ipython3",
   "version": "3.11.1"
  }
 },
 "nbformat": 4,
 "nbformat_minor": 5
}
